{
 "cells": [
  {
   "cell_type": "markdown",
   "metadata": {},
   "source": [
    "# Jupyter Notebooks介绍\n"
   ]
  },
  {
   "cell_type": "markdown",
   "metadata": {},
   "source": [
    "## 前言"
   ]
  },
  {
   "cell_type": "markdown",
   "metadata": {},
   "source": [
    "&ensp;&ensp;&ensp;&ensp;本Notebook主要针对PYNQ对Jupyter Notebooks进行介绍，介绍的大纲借鉴了Jupyter Notebooks官方的Notebook Examples，主要包括以下四个方面的内容："
   ]
  },
  {
   "cell_type": "markdown",
   "metadata": {},
   "source": [
    "1. 什么是Jupyter Notebook\n",
    "2. Jupyter Notebook的基本部件和功能\n",
    "3. 如何在Jupyter Notebook中运行代码\n",
    "4. 如何在Jupyter Notebook中编写Markdown文档\n",
    "5. 在PYNQ中，Jupyter Notebook能做什么\n",
    "\n",
    "关于Jupyter Notebooks官方的更多内容，可以参考：[Jupyter 官方文档](http://jupyter-notebook.readthedocs.io/en/latest/examples/Notebook/examples_index.html)."
   ]
  },
  {
   "cell_type": "markdown",
   "metadata": {},
   "source": [
    "## 第一部分：什么是Jupyter Notebook?"
   ]
  },
  {
   "cell_type": "markdown",
   "metadata": {},
   "source": [
    "Jupyter Notebook是一个**交互式的笔记本**，本质是一个Web应用程序，可以在一个文档中包含以下的功能：\n",
    "\n",
    "* 动态代码(编写代码和运行代码)\n",
    "* 插入交互式的小控件\n",
    "* 绘图(数据可视化)\n",
    "* 插入注释文档(Markdown格式)\n",
    "* 图片和视频的显示\n",
    "* 公式的编写\n",
    "\n",
    "这种文档提供了**一种完整和独立的计算记录方式**，并且可以转换成各种格式以电子版的形式与他人共享。"
   ]
  },
  {
   "cell_type": "markdown",
   "metadata": {},
   "source": [
    "### Jupyter Notebook包含以下三个组件：\n",
    "* Web应用程序：一个用于编写和运行代码和创作笔记本文档的交互式Web应用程序。\n",
    "* 内核(Kernels)：当给定编程语言的代码运行时，内核会调用一个单独的进程启动并用来输出结果并返回结果给Web应用程序。同时内核也处理诸如交互式小部件、选项卡和内省等功能。\n",
    "* 笔记本文档：笔记本文档包含了Web应用程序的所有内容，包括：输入和输出、注释文档、方程式、图片和对一个对象的富媒体表现形式。同时，每一个笔记本文档有自己的内核。"
   ]
  },
  {
   "cell_type": "markdown",
   "metadata": {},
   "source": [
    "#### 1.Web应用程序<br>\n",
    "Web应用层序可以完成以下几种应用：\n",
    "* 在浏览器内**编写代码**，同时具有语法自动高亮、Tab补全及检查\n",
    "* 在浏览器中**运行代码**，同时直接在浏览器中输出运行结果\n",
    "* 查看带有**富媒体**的计算结果，比如：HTML,LaTeX,PNG,SVG,PDF等\n",
    "* 插入和使用**交互式JavaScript的小控件**，可以用来搭建交互式用户界面并且可视化内核计算结果。\n",
    "* 使用Markdown格式编写注释文档\n",
    "* 通过不同级别的标题构建分层的文件管理模式\n",
    "* 在文档中以Markdown的形式使用LaTeX语法编写数学公式"
   ]
  },
  {
   "cell_type": "markdown",
   "metadata": {},
   "source": [
    "#### 2.内核\n",
    "&ensp;&ensp;&ensp;&ensp;Jupyter Notebook支持一系列不同的编程语言。每当打开一个Notebook,Web应用程序就开启一个内核来运行代码。每个内核运行在单独的一个编程语言下。内核支持以下编程语言:\n",
    "* [Python](https://github.com/ipython/ipython)\n",
    "* [Julia](https://github.com/JuliaLang/IJulia.jl)\n",
    "* [R](https://github.com/takluyver/IRkernel)\n",
    "* [Ruby](https://github.com/minrk/iruby)\n",
    "* [Haskell](https://github.com/gibiansky/IHaskell)\n",
    "* [Scala](https://github.com/Bridgewater/scala-notebook)\n",
    "* [node.js](https://gist.github.com/Carreau/4279371)\n",
    "* [Go](https://github.com/takluyver/igo)<br>\n",
    "\n",
    "&ensp;&ensp;&ensp;&ensp;Python作为Jupyter Notebook的通用内核支持语言，可以用来对PYNQ进行编程，同时在PYNQ上搭建的Jupyter Notebook也只安装了Python的内核。<br>\n",
    "&ensp;&ensp;&ensp;&ensp;Web浏览器通过JSON、overZeroMQ/WebSockets等信息的协议，来使内核和Notebook的Web应用程序进行交互，大部分用户不需要了解这些细节，但是需要去理解内核是运行在ZYNQ上的而Web浏览器则提供了一些接口给这个内核。关于上述的细节内容，可以参考：[点击查看更多细节信息](http://ipython.org/ipython-doc/dev/development/messaging.html)"
   ]
  },
  {
   "cell_type": "markdown",
   "metadata": {},
   "source": [
    "#### 3.Notebook文档\n",
    "&ensp;&ensp;&ensp;&ensp;Notebook文档包含交互的**输入和输出**和非代码部分的**解释性文字**，运行代码所产生的**各种输出**,包括HTML、图片、视频、和平面图,都可以被嵌入在笔记本上,这使得它可以进行完整和独立的记录计算。当在电脑上运行这个笔记本web应用程序时,笔记本文件只是一个后缀为**ipynb**的本地文件。这决定了它能够很方便地被组织到文件夹中并且和与他人分享。"
   ]
  },
  {
   "cell_type": "markdown",
   "metadata": {},
   "source": [
    "Noteboook 中的Cell有以下四种类型：\n",
    "\n",
    "* **Code cells:** 用于输入和输出运行在内核上的代码\n",
    "* **Markdown cells:** 用Markdown格式编辑非代码文本并且可以嵌入LaTeX格式的方程s\n",
    "* **Heading cells:** 编辑标题（不建议使用，因为在Markdown cell中可以进行标题的编写）\n",
    "* **Raw cells:** 无格式文本，可以使用命令行将笔记本转化为另一种格式，如HTML\n"
   ]
  },
  {
   "cell_type": "markdown",
   "metadata": {},
   "source": [
    "&ensp;&ensp;&ensp;&ensp;在Notebook文档内部，采用了base64编码的Json格式数据，这让任何一种编程语言都对它们进行操作，这是由于JSON采用完全独立于编程语言的文本格式来存储和表示数据,并且Notebook文档对于版本控制也十分友好。              \n",
    "&ensp;&ensp;&ensp;&ensp;Notebook也可以导出为不同的静态格式，比如HTML、reStructeredText、LaTeX, PDF，或者使用Jupyter的`nbconvert`功能将它转为幻灯片形式，对于PYNQ的一些文档，包括这篇，都是使用Notebook进行编写的。<br>\n",
    "&ensp;&ensp;&ensp;&ensp;此外,任何从**公共URL或可以共享的GitHub**获取的Notebook都可以通过[nbviewer](http://nbviewer.ipython.org) 直接进行查看而**不需要安装Jupyter**。"
   ]
  },
  {
   "cell_type": "markdown",
   "metadata": {},
   "source": [
    "## 第二部分：Jupyter Notebook的基本部件和功能"
   ]
  },
  {
   "cell_type": "markdown",
   "metadata": {},
   "source": [
    "### Notebook的主控面板(Dashboard)"
   ]
  },
  {
   "cell_type": "markdown",
   "metadata": {},
   "source": [
    "&ensp;&ensp;&ensp;&ensp;在PYNQ里，Notebook的服务器运行在ARM®处理器上。当你的板卡配置好网络后，你可以通过浏览器输入[pynq:9090](pynq:9090)来进入主界面。主控面板是Notebook的主页。它的主要目的是显示Notebook和在当前目录下的文件。举例来说,这是一个文件目录的截图:"
   ]
  },
  {
   "cell_type": "markdown",
   "metadata": {},
   "source": [
    "![image](./image/1.png)"
   ]
  },
  {
   "cell_type": "markdown",
   "metadata": {},
   "source": [
    "&ensp;&ensp;&ensp;&ensp;当前的文件路径会显示在方(如上图 **/example**)。可以通过点击这个路径或者下面子目录列表来寻找自己的文件。"
   ]
  },
  {
   "cell_type": "markdown",
   "metadata": {},
   "source": [
    "![image](./image/2.jpg)"
   ]
  },
  {
   "cell_type": "markdown",
   "metadata": {},
   "source": [
    "&ensp;&ensp;&ensp;&ensp;如上图所示，如果想要创建一个新的Notebook，可以通过单击主界面的\"New\"按钮，可以创建一个新的Python3 Notebook。如果想要上传一个Notebook，可以点击New旁边的Upload来上传已有的Notebook。"
   ]
  },
  {
   "cell_type": "markdown",
   "metadata": {},
   "source": [
    "![image](./image/3.png)"
   ]
  },
  {
   "cell_type": "markdown",
   "metadata": {},
   "source": [
    "![image](./image/4.png)"
   ]
  },
  {
   "cell_type": "markdown",
   "metadata": {},
   "source": [
    "&ensp;&ensp;&ensp;&ensp;打开一个Notebook后，在主界面的Notebook中会显示\"Running\"这个状态，而在Running的选项卡中也会将已经打开的Notebook显示在下面，代表Notebook正在运行。要注意，关闭Notebook的页面并不能完全退出Notebook，只有通过Shutdown按钮才能够真正的关闭Notebook。"
   ]
  },
  {
   "cell_type": "markdown",
   "metadata": {},
   "source": [
    "![image](./image/5.png)"
   ]
  },
  {
   "cell_type": "markdown",
   "metadata": {},
   "source": [
    "&ensp;&ensp;&ensp;&ensp;点击文件前方的小方格后，在页面顶部左上角将会显示对文件的一些操作，包括重命名、复制、关闭这个Notebook进程(在Notebook Running的情况下)。"
   ]
  },
  {
   "cell_type": "markdown",
   "metadata": {},
   "source": [
    "### Notebook的用户界面视图"
   ]
  },
  {
   "cell_type": "markdown",
   "metadata": {},
   "source": [
    "&ensp;&ensp;&ensp;&ensp;当成功创建了一个新的Notebook以后，会进入Notebook的用户界面(user interface)，这个界面可以进行代码的编写、运行等操作。并且整个用户界面可以主要分为三个部分：\n",
    "* 菜单栏\n",
    "* 工具栏\n",
    "* 块(Notebook具体的内容)<br>\n",
    "\n",
    "&ensp;&ensp;&ensp;&ensp;想要对上述的功能进行更多的了解，可以通过单击菜单栏中\"Help\"选项卡下的\"User Interface Tour\"(如下图所示)"
   ]
  },
  {
   "cell_type": "markdown",
   "metadata": {},
   "source": [
    "![image](./image/6.png)"
   ]
  },
  {
   "cell_type": "markdown",
   "metadata": {},
   "source": [
    "&ensp;&ensp;&ensp;&ensp;Notebook中的块由两种模式所构成，分别为**编辑模式**和**命令模式**"
   ]
  },
  {
   "cell_type": "markdown",
   "metadata": {},
   "source": [
    "#### 编辑模式"
   ]
  },
  {
   "cell_type": "markdown",
   "metadata": {},
   "source": [
    "![image](./image/7.png)"
   ]
  },
  {
   "cell_type": "markdown",
   "metadata": {},
   "source": [
    "&ensp;&ensp;&ensp;&ensp;当块处于编辑模式时，周围是一个绿色的框。在这种情况下，代码块内可以像一个普通的文本编辑器一样编辑文本。"
   ]
  },
  {
   "cell_type": "markdown",
   "metadata": {},
   "source": [
    "<div class=\"alert alert-success\">\n",
    "可以通过按下`Enter`键或者单击块进入编辑模式\n",
    "</div>"
   ]
  },
  {
   "cell_type": "markdown",
   "metadata": {},
   "source": [
    "#### 命令模式"
   ]
  },
  {
   "cell_type": "markdown",
   "metadata": {},
   "source": [
    "![image](./image/8.png)"
   ]
  },
  {
   "cell_type": "markdown",
   "metadata": {},
   "source": [
    "&ensp;&ensp;&ensp;&ensp;当块处于命令模式下时，不能对块内部进行编辑，但是可以将块作为一个整体进行操作。更重要的是，在命令模式下可以灵活地使用键盘进行快捷键操作，因此在命令模式下**不要**进行编辑操作 **!** (很可能触发一些快捷键操作造成不必要的影响)"
   ]
  },
  {
   "cell_type": "markdown",
   "metadata": {},
   "source": [
    "<div class=\"alert alert-success\">\n",
    "可以通过按下`Esc`键或者单击空白处进入命令模式\n",
    "</div>"
   ]
  },
  {
   "cell_type": "markdown",
   "metadata": {},
   "source": [
    "### 鼠标操作导航"
   ]
  },
  {
   "cell_type": "markdown",
   "metadata": {},
   "source": [
    "&ensp;&ensp;&ensp;&ensp;鼠标可以单击块来选择块，如果点击的是块的内部则会进入编辑模式，如果点击的是空白处则会进入命令模式。"
   ]
  },
  {
   "cell_type": "markdown",
   "metadata": {},
   "source": [
    "![image](./image/9.png)"
   ]
  },
  {
   "cell_type": "markdown",
   "metadata": {},
   "source": [
    "&ensp;&ensp;&ensp;&ensp;如果想要通过鼠标在块中运行代码，可以通过选择块后并且在工具栏中选择\"Cell:Run\"来执行代码，如果想要复制块，可以在工具栏中选择\"Edit:Copy\"。<br>\n",
    "&ensp;&ensp;&ensp;&ensp;当块中是以Markdown格式或者标题格式时，块会呈现两种情况：**预览模式**或者**编辑模式(源码模式)** ，预览模式下会看到文本显示效果，当在编辑模式下，可以看到编辑文本的源码。如果想要通过鼠标将源码模式转化为预览模式，可以通过选择块后并且在工具栏中选择\"Cell:Run\"来执行代码，如果想要将预览模式转为编辑模式，则双击块即可。"
   ]
  },
  {
   "cell_type": "markdown",
   "metadata": {},
   "source": [
    "### 键盘操作导航"
   ]
  },
  {
   "cell_type": "markdown",
   "metadata": {},
   "source": [
    "&ensp;&ensp;&ensp;&ensp;对于键盘的键盘键，同样由两种不同的快捷键方式，分别为在编辑模式核命令模式下的快捷键。最重要的快捷键是`Enter`键，用来进入编辑模式，另一个是`Esc`键，用于退出编辑模式进入命令模式。<br>\n",
    "&ensp;&ensp;&ensp;&ensp;在编辑模式下，由于大部分的键盘都用于文本的编辑所以快捷键很少，而在命令模式下，整个键盘都可以当作快捷键使用，因此有很多快捷键。"
   ]
  },
  {
   "cell_type": "markdown",
   "metadata": {},
   "source": [
    "&ensp;&ensp;&ensp;&ensp;下面为一些常用的快捷键组合："
   ]
  },
  {
   "cell_type": "markdown",
   "metadata": {},
   "source": [
    "![image](./image/10.png)"
   ]
  },
  {
   "cell_type": "markdown",
   "metadata": {},
   "source": [
    "![image](./image/11.png)"
   ]
  },
  {
   "cell_type": "markdown",
   "metadata": {},
   "source": [
    "## 第三部分：如何在Jupyter Notebook中运行代码"
   ]
  },
  {
   "cell_type": "markdown",
   "metadata": {},
   "source": [
    "&ensp;&ensp;&ensp;&ensp;Jupyter Notebook是一个交互式编写并运行代码的环境。并且支持多种编程语言。但是,每个Notebook与一个单独的内核相互连接。在Pynq中，Notebook与IPython内核相连并且运行Python代码。"
   ]
  },
  {
   "cell_type": "markdown",
   "metadata": {},
   "source": [
    "#### 使用代码块输入和运行代码"
   ]
  },
  {
   "cell_type": "markdown",
   "metadata": {},
   "source": [
    "&ensp;&ensp;&ensp;&ensp;建立一个块的属性为代码块，在编辑模式下在块中输入代码即可使用`Shift+Enter`(键盘快捷键)或鼠标点击`Cell-Run Cells`来运行代码。比如定义一个变量并且输出它："
   ]
  },
  {
   "cell_type": "code",
   "execution_count": null,
   "metadata": {},
   "outputs": [],
   "source": [
    "a = 10"
   ]
  },
  {
   "cell_type": "code",
   "execution_count": null,
   "metadata": {},
   "outputs": [],
   "source": [
    "print(a)"
   ]
  },
  {
   "cell_type": "markdown",
   "metadata": {},
   "source": [
    "&ensp;&ensp;&ensp;&ensp;在键盘快捷键下，有两种运行代码的方式：\n",
    "* `Alt+Enter`用于运行当前块并且在下方新插入一个块\n",
    "* `Ctrl+Enter`用于运行当前块然后进入命令模式"
   ]
  },
  {
   "cell_type": "markdown",
   "metadata": {},
   "source": [
    "#### 控制内核"
   ]
  },
  {
   "cell_type": "markdown",
   "metadata": {},
   "source": [
    "&ensp;&ensp;&ensp;&ensp;在Notebook中，代码运行在一个称作“内核”的单独进程中，内核可以被中断和重新启动。比如可以导入一个计时模块，然后在内核运行下的情况下中断内核和重新启动内核。中断和重新启动内核的方式如下图所示："
   ]
  },
  {
   "cell_type": "markdown",
   "metadata": {},
   "source": [
    "![image](./image/12.png)"
   ]
  },
  {
   "cell_type": "code",
   "execution_count": null,
   "metadata": {},
   "outputs": [],
   "source": [
    "import time \n",
    "time.sleep(10)"
   ]
  },
  {
   "cell_type": "markdown",
   "metadata": {},
   "source": [
    "#### 块的菜单栏"
   ]
  },
  {
   "cell_type": "markdown",
   "metadata": {},
   "source": [
    "&ensp;&ensp;&ensp;&ensp;块的菜单栏下有多种运行代码的方式，包括：\n",
    "* Run and Select Below (运行所选的块并且选中下一个)\n",
    "* Run and Insert Below (运行所选的块并且在下面创建一个新的块)\n",
    "* Run All (运行所有的块)\n",
    "* Run All Above (运行所选块后的所有块)\n",
    "* Run All Below (运行所选块前的块)"
   ]
  },
  {
   "cell_type": "markdown",
   "metadata": {},
   "source": [
    "#### sys.stdout"
   ]
  },
  {
   "cell_type": "markdown",
   "metadata": {},
   "source": [
    "输入和输出流都可以作为文本在输出的空白处显示"
   ]
  },
  {
   "cell_type": "code",
   "execution_count": null,
   "metadata": {},
   "outputs": [],
   "source": [
    "print(\"Hello from Pynq!\")"
   ]
  },
  {
   "cell_type": "markdown",
   "metadata": {},
   "source": [
    "#### 异步的输出模式"
   ]
  },
  {
   "cell_type": "markdown",
   "metadata": {},
   "source": [
    "&ensp;&ensp;&ensp;&ensp;在Notebook中，在内核中生成的所有输出都是异步显示的，比如下面的代码，每0.5秒会输出一次结果，而不是全部在最后输出。"
   ]
  },
  {
   "cell_type": "code",
   "execution_count": null,
   "metadata": {},
   "outputs": [],
   "source": [
    "import time,sys\n",
    "for i in range(8):\n",
    "    print(i)\n",
    "    time.sleep(0.5)"
   ]
  },
  {
   "cell_type": "markdown",
   "metadata": {},
   "source": [
    "#### 对大量数据输出的支持"
   ]
  },
  {
   "cell_type": "markdown",
   "metadata": {},
   "source": [
    "&ensp;&ensp;&ensp;&ensp;为了更好地处理大量地数据输出，当需要输出大量数据的时候，输出框可以被折叠。如下面的代码所示，单击结果栏左侧可以使数据折叠或展开。"
   ]
  },
  {
   "cell_type": "code",
   "execution_count": null,
   "metadata": {
    "scrolled": true
   },
   "outputs": [],
   "source": [
    "for i in range(50):\n",
    "    print(i)"
   ]
  },
  {
   "cell_type": "markdown",
   "metadata": {},
   "source": [
    "## 第四部分：如何在Jupyter Notebook中编写Markdown文档"
   ]
  },
  {
   "cell_type": "markdown",
   "metadata": {},
   "source": [
    "&ensp;&ensp;&ensp;&ensp;在Jupyter Notebook中，可以在块的选择中选择Markdown格式的块来进行Markdown格式文档的编写。Markdown是一种可以使用普通文本编辑器编写的标记语言，通过简单的标记语法，它可以使普通文本内容具有一定的格式。更多具体的描述可以参考：[Markdown详细介绍](http://daringfireball.net/projects/markdown/)"
   ]
  },
  {
   "cell_type": "markdown",
   "metadata": {},
   "source": [
    "### Markdown基本语法"
   ]
  },
  {
   "cell_type": "markdown",
   "metadata": {},
   "source": [
    "&ensp;&ensp;&ensp;&ensp;在Markdown中，可以对指定内容两端添加`* *`和`** **`将内容*改为斜体*和**字体加粗**"
   ]
  },
  {
   "cell_type": "markdown",
   "metadata": {},
   "source": [
    "&ensp;&ensp;&ensp;&ensp;建立一些分层列表，如：\n",
    "* 第1步\n",
    "    - 1.1\n",
    "        - 1.1.1\n",
    "        - 1.1.2\n",
    "        - 1.1.3\n",
    "* 第2步\n",
    "  - 2.1\n",
    "* 第3步\n",
    "  - 3.1\n",
    "<br>\n",
    "\n",
    "\n",
    "&ensp;&ensp;&ensp;&ensp;或者：\n",
    "1. 第1步\n",
    "    1. 1.1\n",
    "    2. 1.2\n",
    "2. 第二步\n",
    "3. 第三步"
   ]
  },
  {
   "cell_type": "markdown",
   "metadata": {},
   "source": [
    "添加水平分割线:\n",
    "\n",
    "---"
   ]
  },
  {
   "cell_type": "markdown",
   "metadata": {},
   "source": [
    "进行引用：\n",
    "> Beautiful is better than ugly.\n",
    "> Explicit is better than implicit.\n",
    "> Simple is better than complex.\n",
    "> Complex is better than complicated.\n",
    "> Flat is better than nested.\n",
    "> Sparse is better than dense.\n",
    "> Readability counts.\n",
    "> Special cases aren't special enough to break the rules.\n",
    "> Although practicality beats purity.\n",
    "> Errors should never pass silently.\n",
    "> Unless explicitly silenced.\n",
    "> In the face of ambiguity, refuse the temptation to guess.\n",
    "> There should be one-- and preferably only one --obvious way to do it.\n",
    "> Although that way may not be obvious at first unless you're Dutch.\n",
    "> Now is better than never.\n",
    "> Although never is often better than *right* now.\n",
    "> If the implementation is hard to explain, it's a bad idea.\n",
    "> If the implementation is easy to explain, it may be a good idea.\n",
    "> Namespaces are one honking great idea -- let's do more of those!"
   ]
  },
  {
   "cell_type": "markdown",
   "metadata": {},
   "source": [
    "将文字与网站进行链接：\n",
    "\n",
    "[Jupyter官网](http://jupyter.org)"
   ]
  },
  {
   "cell_type": "markdown",
   "metadata": {},
   "source": [
    "#### 1.标题管理"
   ]
  },
  {
   "cell_type": "markdown",
   "metadata": {},
   "source": [
    "&ensp;&ensp;&ensp;&ensp;在Markdown编辑模式下，在想要设置为标题的文字前面加`#+空格`来表示转化为标题，一个#是一级标题，两个#是二级标题，以此类推，最多支持六级标题。如：\n",
    "```\n",
    "# 这是一级标题\n",
    "## 这是二级标题\n",
    "### 这是三级标题\n",
    "#### 这是四级标题\n",
    "##### 这是五级标题\n",
    "###### 这是六级标题\n",
    "```"
   ]
  },
  {
   "cell_type": "markdown",
   "metadata": {},
   "source": [
    "#### 2.嵌入代码"
   ]
  },
  {
   "cell_type": "markdown",
   "metadata": {},
   "source": [
    "在Markdown编辑模式下，可以嵌入说明性的代码而不再Pyhton中执行它，如：\n",
    "\n",
    "    def f(x):\n",
    "        \"\"\"用于计算平方的函数\"\"\"\n",
    "        return x**2\n",
    "以及其他编程语言，如：\n",
    "\n",
    "    if (i=0; i<n; i++) {\n",
    "      printf(\"hello %d\\n\", i);\n",
    "      x += 4;\n",
    "    }"
   ]
  },
  {
   "cell_type": "markdown",
   "metadata": {},
   "source": [
    "#### 3.在Markdown编辑模式下使用LaTeX进行公式的编写"
   ]
  },
  {
   "cell_type": "markdown",
   "metadata": {},
   "source": [
    "借助于Markdown和LaTex，可以在Notebook中编写数学表达式并且显示在块内。"
   ]
  },
  {
   "cell_type": "markdown",
   "metadata": {},
   "source": [
    "在latex代码的首尾加上`$`即可在块中**嵌入**需要表达的公式，如：\n",
    "\n",
    "```\n",
    "Inline example: $e^{i\\pi} + 1 = 0$\n",
    "```\n",
    "在预览模式下，公式会被渲染并且显示如下：<br>\n",
    "\n",
    "$e^{i\\pi} + 1 = 0$\n",
    "\n",
    "---\n",
    "在latex代码的首尾加上`$$`可在块中只显示需要表达的公式，如：\n",
    "\n",
    "```latex\n",
    "$$e^x=\\sum_{i=0}^\\infty \\frac{1}{i!}x^i$$\n",
    "```\n",
    "在预览模式下，公式会被渲染并且显示如下：\n",
    "$$e^x=\\sum_{i=0}^\\infty \\frac{1}{i!}x^i$$"
   ]
  },
  {
   "cell_type": "markdown",
   "metadata": {},
   "source": [
    "#### 4.GitHub风格的Markdown\n"
   ]
  },
  {
   "cell_type": "markdown",
   "metadata": {},
   "source": [
    "Notebook同时支持GitHub风格的Markdwon，因此可以使用三个重音符来显示代码块。如：\n",
    "\n",
    "    <pre>\n",
    "    ```python\n",
    "    print \"Hello World\"\n",
    "    ```\n",
    "    </pre>\n",
    "\n",
    "    <pre>\n",
    "    ```javascript\n",
    "    console.log(\"Hello World\")\n",
    "    ```\n",
    "    </pre>\n",
    "输出的结果：\n",
    "```python\n",
    "print \"Hello World\"\n",
    "```\n",
    "\n",
    "```javascript\n",
    "console.log(\"Hello World\")\n",
    "```\n",
    "以及一个表格，如：\n",
    "\n",
    "    <pre>\n",
    "    ```\n",
    "\n",
    "    | This | is   |\n",
    "    |------|------|\n",
    "    |   a  | table| \n",
    "\n",
    "    ```\n",
    "    </pre>\n",
    "输出的结果：\n",
    "\n",
    "| This | is   |\n",
    "|------|------|\n",
    "|   a  | table| "
   ]
  },
  {
   "cell_type": "markdown",
   "metadata": {},
   "source": [
    "#### 5.生成HTML"
   ]
  },
  {
   "cell_type": "markdown",
   "metadata": {},
   "source": [
    "因为Markdown内嵌了HTML，因此也可以增加诸如HTML表格等成分：\n",
    "<table>\n",
    "<tr>\n",
    "<th>Header 1</th>\n",
    "<th>Header 2</th>\n",
    "</tr>\n",
    "<tr>\n",
    "<td>row 1, cell 1</td>\n",
    "<td>row 1, cell 2</td>\n",
    "</tr>\n",
    "<tr>\n",
    "<td>row 2, cell 1</td>\n",
    "<td>row 2, cell 2</td>\n",
    "</tr>\n",
    "</table>"
   ]
  },
  {
   "cell_type": "markdown",
   "metadata": {},
   "source": [
    "#### 6.本地文件加载"
   ]
  },
  {
   "cell_type": "markdown",
   "metadata": {},
   "source": [
    "如果在Notebook的文件夹下有本地文件，可以直接在Markdown块中进行索引,引用格式如下：\n",
    "\n",
    "\n",
    "     [文件目录](文件名称)"
   ]
  },
  {
   "cell_type": "markdown",
   "metadata": {},
   "source": [
    "#### 7.本地文件的安全和隐私性"
   ]
  },
  {
   "cell_type": "markdown",
   "metadata": {},
   "source": [
    "需要注意，Jupyter Notebook同时是可以作为一个通用的文件服务器而使用，因此未在Notebook文件夹内的文件是没有访问权限的，因此可以严格控制Notebook文件夹下的文件。也因为这个原因。所以强烈建议不要在重要的目录下使用Jupyter Notebook服务器(比如 home文件夹)。\n",
    "\n",
    "当以受密码保护的方式运行一个Notebook时，本地文件的权限只限于只读文件，否则需要经过身份验证。有关这方面的更多信息，可以参阅Jupyter有关运行Notebook服务器的文档：[点击此处](http://jupyter-notebook.readthedocs.io/en/latest/public_server.html)."
   ]
  },
  {
   "cell_type": "markdown",
   "metadata": {},
   "source": [
    "## 在PYNQ中，Jupyter Notebook能额外做什么"
   ]
  },
  {
   "cell_type": "markdown",
   "metadata": {},
   "source": [
    "#### 1.加载比特流文件"
   ]
  },
  {
   "cell_type": "markdown",
   "metadata": {},
   "source": [
    "在Jupyter Notebook中，可以直接通过为PYNQ特别定制的库去加载比特流文件来加载硬件端的架构"
   ]
  },
  {
   "cell_type": "code",
   "execution_count": null,
   "metadata": {},
   "outputs": [],
   "source": [
    "from pynq.overlays.base import BaseOverlay\n",
    "\n",
    "base = BaseOverlay(\"base.bit\")"
   ]
  },
  {
   "cell_type": "markdown",
   "metadata": {},
   "source": [
    "执行上述代码之后，可以在开发板上看到指示灯\"Done\"闪烁了一下，即硬件端已经加载了硬件结构，之后就可以对板载资源进行访问，如控制灭掉的4颗LED灯"
   ]
  },
  {
   "cell_type": "code",
   "execution_count": null,
   "metadata": {},
   "outputs": [],
   "source": [
    "for led in base.leds:\n",
    "    led.on()#开启LED灯"
   ]
  },
  {
   "cell_type": "code",
   "execution_count": null,
   "metadata": {},
   "outputs": [],
   "source": [
    "for led in base.leds:\n",
    "    led.off()#关闭LED灯"
   ]
  },
  {
   "cell_type": "markdown",
   "metadata": {},
   "source": [
    "#### 2.结合Jupyter Notebook Widgets在前端控制板载硬件设施"
   ]
  },
  {
   "cell_type": "markdown",
   "metadata": {},
   "source": [
    "在最开始中涉及到Jupyter Notebook中有交互式的小控件，因此可以通过小控件搭建一个简单的前端结构来较好的控制板载硬件设施"
   ]
  },
  {
   "cell_type": "code",
   "execution_count": null,
   "metadata": {},
   "outputs": [],
   "source": [
    "%gui asyncio"
   ]
  },
  {
   "cell_type": "code",
   "execution_count": null,
   "metadata": {},
   "outputs": [],
   "source": [
    "import asyncio\n",
    "def wait_for_change(widget, value):\n",
    "    future = asyncio.Future()\n",
    "    def getvalue(change):\n",
    "        # make the new value available\n",
    "        future.set_result(change.new)\n",
    "        widget.unobserve(getvalue, value)\n",
    "    widget.observe(getvalue, value)\n",
    "    return future"
   ]
  },
  {
   "cell_type": "code",
   "execution_count": null,
   "metadata": {},
   "outputs": [],
   "source": [
    "from pynq.overlays.base import BaseOverlay\n",
    "import ipywidgets as widgets\n",
    "\n",
    "base = BaseOverlay(\"base.bit\")\n",
    "for led in base.leds:\n",
    "    led.on()"
   ]
  },
  {
   "cell_type": "code",
   "execution_count": null,
   "metadata": {},
   "outputs": [],
   "source": [
    "from ipywidgets import IntSlider\n",
    "slider = IntSlider(min = 0,max = 7)\n",
    "rgbled_position = [4,5]\n",
    "async def f():\n",
    "    while(1):\n",
    "        x = await wait_for_change(slider, 'value')\n",
    "        for led in rgbled_position:\n",
    "            base.rgbleds[led].write(x)\n",
    "            base.rgbleds[led].write(x)\n",
    "\n",
    "asyncio.ensure_future(f())\n",
    "\n",
    "slider"
   ]
  },
  {
   "cell_type": "markdown",
   "metadata": {},
   "source": [
    "通过移动上面的条块，可以控制板载上的RGB-LED的颜色显示"
   ]
  },
  {
   "cell_type": "markdown",
   "metadata": {},
   "source": [
    "#### 3.通过Python中的数据处理库处理与显示数据"
   ]
  },
  {
   "cell_type": "markdown",
   "metadata": {},
   "source": [
    "&ensp;&ensp;&ensp;&ensp;因为Python中内置了许多数据处理库，可以将数据很好地可视化在界面上。所以运用Python，可以将在开发板中获取的信息很好地表现出来，例如直观地显示一些数据，如输出DAC-ADC_Pmod回路测量误差.："
   ]
  },
  {
   "cell_type": "code",
   "execution_count": null,
   "metadata": {},
   "outputs": [],
   "source": [
    "%matplotlib inline\n",
    "from math import ceil\n",
    "from time import sleep\n",
    "import numpy as np\n",
    "import matplotlib.pyplot as plt\n",
    "from pynq.lib import Pmod_ADC, Pmod_DAC\n",
    "from pynq.overlays.base import BaseOverlay\n",
    "\n",
    "ol = BaseOverlay(\"base.bit\")\n",
    "\n",
    "dac = Pmod_DAC(ol.PMODB)\n",
    "adc = Pmod_ADC(ol.PMODA)\n",
    "\n",
    "delay = 0.0\n",
    "values = np.linspace(0, 2, 20)\n",
    "samples = []\n",
    "for value in values:\n",
    "    dac.write(value)\n",
    "    sleep(delay)\n",
    "    sample = adc.read()\n",
    "    samples.append(sample[0])\n",
    "#     print('Value written: {:4.2f}\\tSample read: {:4.2f}\\tError: {:+4.4f}'.\n",
    "#           format(value, sample[0], sample[0]-value))\n",
    "\n",
    "X = np.arange(len(values))\n",
    "plt.bar(X + 0.0, values, facecolor='blue', \n",
    "        edgecolor='white', width=0.5, label=\"Written_to_DAC\")\n",
    "plt.bar(X + 0.25, samples, facecolor='red', \n",
    "        edgecolor='white', width=0.5, label=\"Read_from_ADC\")\n",
    "\n",
    "plt.title('DAC-ADC Linearity')\n",
    "plt.xlabel('Sample_number')\n",
    "plt.ylabel('Volts')\n",
    "plt.legend(loc='upper left', frameon=False)\n",
    "\n",
    "plt.show()"
   ]
  },
  {
   "cell_type": "markdown",
   "metadata": {},
   "source": [
    "#### 4.直接执行Linux Shell指令"
   ]
  },
  {
   "cell_type": "markdown",
   "metadata": {},
   "source": [
    "在Jupyter Notebook中，可以在代码块前面加一个\"!\"后可以直接添加shell指令来执行shell指令<br>\n",
    "如：查看系统信息等"
   ]
  },
  {
   "cell_type": "markdown",
   "metadata": {},
   "source": [
    "查看系统信息"
   ]
  },
  {
   "cell_type": "code",
   "execution_count": null,
   "metadata": {},
   "outputs": [],
   "source": [
    "!cat /proc/cpuinfo"
   ]
  },
  {
   "cell_type": "markdown",
   "metadata": {},
   "source": [
    "查看Linux版本"
   ]
  },
  {
   "cell_type": "code",
   "execution_count": null,
   "metadata": {},
   "outputs": [],
   "source": [
    "!cat /etc/os-release | grep VERSION"
   ]
  },
  {
   "cell_type": "markdown",
   "metadata": {},
   "source": [
    "通过内核计算CPU速度"
   ]
  },
  {
   "cell_type": "code",
   "execution_count": null,
   "metadata": {},
   "outputs": [],
   "source": [
    "!head -5 /proc/cpuinfo | grep \"BogoMIPS\""
   ]
  }
 ],
 "metadata": {
  "kernelspec": {
   "display_name": "Python 3",
   "language": "python",
   "name": "python3"
  },
  "language_info": {
   "codemirror_mode": {
    "name": "ipython",
    "version": 3
   },
   "file_extension": ".py",
   "mimetype": "text/x-python",
   "name": "python",
   "nbconvert_exporter": "python",
   "pygments_lexer": "ipython3",
   "version": "3.6.5"
  }
 },
 "nbformat": 4,
 "nbformat_minor": 2
}
